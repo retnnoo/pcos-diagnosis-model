{
 "cells": [
  {
   "cell_type": "markdown",
   "id": "f70510e2",
   "metadata": {},
   "source": [
    "# Notebook Kosong"
   ]
  },
  {
   "cell_type": "code",
   "execution_count": null,
   "id": "d9c82169",
   "metadata": {},
   "outputs": [],
   "source": [
    "print('Halo dari notebook kosong!')"
   ]
  }
 ],
 "metadata": {},
 "nbformat": 4,
 "nbformat_minor": 5
}
