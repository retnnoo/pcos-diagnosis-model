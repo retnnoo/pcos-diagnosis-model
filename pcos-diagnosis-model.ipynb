{
 "cells": [
  {
   "cell_type": "markdown",
   "id": "27e5ee30",
   "metadata": {},
   "source": [
    "# Notebook Kosong"
   ]
  },
  {
   "cell_type": "code",
   "execution_count": null,
   "id": "ab478076",
   "metadata": {},
   "outputs": [],
   "source": [
    "print('Halo dari notebook kosong!')"
   ]
  }
 ],
 "metadata": {},
 "nbformat": 4,
 "nbformat_minor": 5
}
