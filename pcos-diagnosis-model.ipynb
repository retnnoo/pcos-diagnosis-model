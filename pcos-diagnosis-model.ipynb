{
 "cells": [
  {
   "cell_type": "code",
   "execution_count": null,
   "id": "7ac60ca8",
   "metadata": {},
   "outputs": [],
   "source": [
    "print('Halo saya retno')"
   ]
  }
 ],
 "metadata": {},
 "nbformat": 4,
 "nbformat_minor": 5
}
